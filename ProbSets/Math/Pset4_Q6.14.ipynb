{
 "cells": [
  {
   "cell_type": "markdown",
   "metadata": {},
   "source": [
    "Problem 6.14"
   ]
  },
  {
   "cell_type": "code",
   "execution_count": 14,
   "metadata": {},
   "outputs": [],
   "source": [
    "#define callable functions:\n",
    "f = lambda x: x**3 + x**2 - 2*x + 1 \n",
    "f1 = lambda x: 3*x**2 + 2*x - 2\n",
    "f2 = lambda x: 6*x + 2\n",
    "\n",
    "\n",
    "#Newton's method for finding a minimizer of a function\n",
    "def newtons_method(x0, epsilon, f_prime, f_prime_prime):\n",
    "    x1 = x0 - f_prime(x0)/f_prime_prime(x0)\n",
    "    count = 0\n",
    "    #start loop:    \n",
    "    while abs(x1-x0) >= abs(x0)*epsilon:\n",
    "        #must identify and handle cases where the sequence does not converge;\n",
    "        #adjust number of iterations as needed/reasonable:\n",
    "        if count>100:\n",
    "            break\n",
    "            print(\"Did not converge after 100 iterations\")\n",
    "        placeholder = x1\n",
    "        x1 = x1 - f_prime(x1)/f_prime_prime(x1) \n",
    "        x0 = placeholder\n",
    "        count += 1\n",
    "    else: \n",
    "        print('root: ', x1)\n",
    "        print('f(x) at root: ', f(x1))\n",
    "        print('count', count)\n",
    "    "
   ]
  },
  {
   "cell_type": "code",
   "execution_count": null,
   "metadata": {},
   "outputs": [],
   "source": []
  },
  {
   "cell_type": "code",
   "execution_count": null,
   "metadata": {
    "collapsed": true
   },
   "outputs": [],
   "source": []
  }
 ],
 "metadata": {
  "kernelspec": {
   "display_name": "Python 3",
   "language": "python",
   "name": "python3"
  },
  "language_info": {
   "codemirror_mode": {
    "name": "ipython",
    "version": 3
   },
   "file_extension": ".py",
   "mimetype": "text/x-python",
   "name": "python",
   "nbconvert_exporter": "python",
   "pygments_lexer": "ipython3",
   "version": "3.6.1"
  }
 },
 "nbformat": 4,
 "nbformat_minor": 2
}
